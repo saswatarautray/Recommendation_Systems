{
 "cells": [
  {
   "cell_type": "markdown",
   "metadata": {},
   "source": [
    "# Recommendation Systems"
   ]
  },
  {
   "cell_type": "markdown",
   "metadata": {},
   "source": [
    "\n",
    "## Type of Recommendation Engines\n",
    "\n",
    "- Case 1: Recommeding the most popular item\n",
    "- Case 2: Building a Classifier \n",
    "- Case 3: Recommendation Algorithms\n",
    "        A. Content Filtering\n",
    "        B. Collaborative Filtering\n",
    "\n",
    "<img src=\"images/collaborative_vs_content_filtering.png\"  style =\"width:600px; height:400px/\">"
   ]
  },
  {
   "cell_type": "markdown",
   "metadata": {},
   "source": [
    "## The DataSet\n",
    "\n",
    "To experiment with recommendation algorithms, we’ll need data that contains a set of **items** and a set of **users** who have reacted to some of the items.\n",
    "\n",
    "The reaction can be:\n",
    " - Explicit (rating on a scale of 1 to 5, likes or dislikes)\n",
    " - Implicit (viewing an item, adding it to a wish list, the time spent on an article).\n",
    "\n",
    "<img src=\"images/dataview.png\" style =\"width:400px; height:200px/\">\n",
    "\n",
    "## Steps Involved in Collaborative Filtering\n",
    "### Questions that need to be answered\n",
    " - How do you determine which users or items are similar to one another?\n",
    " - Given that you know which users are similar, how do you determine the rating that a user would give to an item based on the ratings of similar users?\n",
    " - How do you measure the accuracy of the ratings you calculate?\n",
    " \n",
    " The First two questions have multiple answers - depending on the kind of algorithm you choose.  \n",
    " The third question too has multiple answers which include a lot of error calculation techniques. One way is to use RMSE / MAE.\n",
    " \n",
    "### Two Major Collaborative Filtering Techniques\n",
    "### Memory Based\n",
    "The first category includes algorithms that are memory based, in which statistical techniques are applied to the entire dataset to calculate the predictions.\n",
    "\n",
    "To find the rating **R** that a user **U** would give to an item I, the approach includes:\n",
    " - Finding users similar to U who have rated the item I\n",
    " - Calculating the rating R based the ratings of users found in the previous step\n",
    "\n",
    "#### How to Find Similar Users on the Basis of Ratings\n",
    "To understand the concept of similarity, let’s create a simple dataset first.\n",
    "\n",
    "The data includes four users A, B, C, and D, who have rated two movies. The ratings are stored in lists, and each list contains two numbers indicating the rating of each movie:\n",
    "\n",
    "- Ratings by A are [1.0, 2.0].\n",
    "- Ratings by B are [2.0, 4.0].\n",
    "- Ratings by C are [2.5, 4.0].\n",
    "- Ratings by D are [4.5, 5.0].\n",
    "\n",
    "<img src=\"images/sample_ratings.png\" style =\"width:400px; height:200px/\">"
   ]
  },
  {
   "cell_type": "code",
   "execution_count": 78,
   "metadata": {},
   "outputs": [
    {
     "name": "stdout",
     "output_type": "stream",
     "text": [
      "Distance between C and A:  2.5\n",
      "Distance between C and B:  0.5\n",
      "Distance between C and D:  2.23606797749979\n",
      "Also\n",
      "Distance between A and B:  2.23606797749979\n"
     ]
    }
   ],
   "source": [
    "from scipy.spatial.distance import euclidean\n",
    "\n",
    "a = [1, 2]\n",
    "b = [2, 4]\n",
    "c = [2.5, 4]\n",
    "d = [4.5, 5]\n",
    "\n",
    "print('Distance between C and A: ',euclidean(c, a))\n",
    "print('Distance between C and B: ',euclidean(c, b))\n",
    "print('Distance between C and D: ',euclidean(c, d))\n",
    "print('Also: ')\n",
    "print('Distance between A and B: ',euclidean(a, b))"
   ]
  },
  {
   "cell_type": "markdown",
   "metadata": {},
   "source": [
    "#### Who is C most closer to besides B?\n",
    "\n",
    "#### What else can we use instead of Euclidean Distance? \n",
    "\n",
    "<img src=\"images/cosine_vs_euclidean.png\" style =\"width:400px; height:200px/\">\n",
    "\n",
    "To calculate similarity using angle, we need a function that returns \n",
    "- higher similarity for a lower angle \n",
    "- lower similarity for a higher angle\n",
    "\n",
    "#### Cosine Similarity !!!\n",
    "The cosine of an angle is a function that decreases from 1 to -1 as the angle increases from 0 to 180."
   ]
  },
  {
   "cell_type": "code",
   "execution_count": 2,
   "metadata": {},
   "outputs": [
    {
     "name": "stdout",
     "output_type": "stream",
     "text": [
      "Cosine Distance between C and A:  0.004504527406047898\n",
      "Cosine Distance between C and B:  0.004504527406047898\n",
      "Cosine Distance between C and D:  0.015137225946083022\n",
      "Also: \n",
      "Cosine Distance between A and B:  0.0\n"
     ]
    }
   ],
   "source": [
    "from scipy.spatial.distance import cosine\n",
    "print('Cosine Distance between C and A: ',cosine(c, a))\n",
    "print('Cosine Distance between C and B: ',cosine(c, b))\n",
    "print('Cosine Distance between C and D: ',cosine(c, d))\n",
    "\n",
    "print('Also: ')\n",
    "print('Cosine Distance between A and B: ',cosine(a, b))"
   ]
  },
  {
   "cell_type": "markdown",
   "metadata": {},
   "source": [
    "#### How to Calculate the Ratings\n",
    "\n",
    " - Average Rating of top 10 similar users\n",
    " <img src=\"images/avg_rating_formula.png\" style =\"width:150px; height:50px/\" >\n",
    " - Weighted Average \n",
    " <img src=\"images/weighted_rating_formula.png\" style =\"width:200px; height:50px/\">\n",
    " \n",
    "#### User-Based vs Item-Based Collaborative Filtering\n",
    " - **User-based**: The technique in the examples explained above, where the rating matrix is used to find similar users based on the ratings they give, is called user-based or user-user collaborative filtering\n",
    "\n",
    "\n",
    " - **Item-based**: If you use the rating matrix to find similar items based on the ratings given to them by users, then the approach is called item-based or item-item collaborative filtering.\n",
    " \n",
    "<img src=\"images/user_vs_item.jpeg\"  style =\"width:600px; height:300px/\">\n",
    " \n"
   ]
  },
  {
   "cell_type": "markdown",
   "metadata": {},
   "source": [
    "### Model Based\n",
    "\n",
    "In this approach, CF models are developed using machine learning algorithms to predict a user’s rating of unrated items. Some of these models/techniques include: \n",
    "- k-nearest neighbors\n",
    "- clustering\n",
    "- matrix factorization \n",
    "- deep learning models like autoencoders and using techniques like embeddings as low-dimensional hidden factors for items and users.\n",
    "\n",
    "<img src=\"images/model_based.png\"  style =\"width:600px; height:400px/\">"
   ]
  },
  {
   "cell_type": "markdown",
   "metadata": {},
   "source": [
    "### Dimensionality Reduction\n",
    "\n",
    "In the user-item matrix, there are two dimensions:\n",
    " - The number of users\n",
    " - The number of items\n",
    " \n",
    "If the matrix is mostly empty, reducing dimensions can improve the performance of the algorithm in terms of both space and time. \n",
    "\n",
    "Matrix factorization can be seen as breaking down a large matrix into a product of smaller ones. This is similar to the factorization of integers, where 12 can be written as 6 x 2 or 4 x 3. In the case of matrices, a matrix A with dimensions m x n can be reduced to a product of two matrices X and Y with dimensions m x p and p x n respectively.\n",
    "\n",
    "The reduced matrices actually represent the users and items individually. The m rows in the first matrix represent the m users, and the p columns tell you about the features or characteristics of the users. The same goes for the item matrix with n items and p characteristics. Here’s an example of how matrix factorization looks:\n",
    "\n",
    "<img src=\"images/dimension_reduction.png\"  style =\"width:600px; height:400px/\">\n",
    "\n",
    "In the image above, the matrix is reduced into two matrices. The one on the left is the user matrix with m users, and the one on top is the item matrix with n items. The rating 4 is reduced or factorized into:\n",
    "\n",
    " - A user vector (2, -1)\n",
    " - An item vector (2.5, 1)\n",
    " \n",
    "The two columns in the user matrix and the two rows in the item matrix are called latent factors and are an indication of hidden characteristics about the users or the items. A possible interpretation of the factorization could look like this:\n",
    "\n",
    " - Assume that in a user vector (u, v), u represents how much a user likes the Horror genre, and v represents how much they like the Romance genre.\n",
    "\n",
    " - The user vector (2, -1) thus represents a user who likes horror movies and rates them positively and dislikes movies that have romance and rates them negatively.\n",
    "\n",
    " - Assume that in an item vector (i, j), i represents how much a movie belongs to the Horror genre, and j represents how much that movie belongs to the Romance genre.\n",
    "\n",
    " - The movie (2.5, 1) has a Horror rating of 2.5 and a Romance rating of 1. Multiplying it by the user vector using matrix multiplication rules gives you (2 * 2.5) + (-1 * 1) = 4.\n",
    "\n",
    "So, the movie belonged to the Horror genre, and the user could have rated it 5, but the slight inclusion of Romance caused the final rating to drop to 4.\n",
    "\n",
    "\n",
    "The number of latent factors affects the recommendations in a manner where the greater the number of factors, the more personalized the recommendations become. But too many factors can lead to overfitting in the model."
   ]
  },
  {
   "cell_type": "markdown",
   "metadata": {},
   "source": [
    "## Recommendation system with Python"
   ]
  },
  {
   "cell_type": "markdown",
   "metadata": {},
   "source": [
    "### Reading the data"
   ]
  },
  {
   "cell_type": "code",
   "execution_count": 3,
   "metadata": {},
   "outputs": [],
   "source": [
    "import numpy as np\n",
    "import pandas as pd\n",
    "import matplotlib.pyplot as plt \n",
    "import sys\n",
    "import pickle"
   ]
  },
  {
   "cell_type": "code",
   "execution_count": 34,
   "metadata": {},
   "outputs": [],
   "source": [
    "# link to download: https://www.kaggle.com/grouplens/movielens-20m-dataset\n",
    "path = 'Downloads/movielens-20m-dataset/'\n",
    "movies = pd.read_csv(path + 'movie.csv')\n",
    "tags = pd.read_csv(path + 'tag.csv')\n",
    "ratings = pd.read_csv(path + 'rating.csv')"
   ]
  },
  {
   "cell_type": "code",
   "execution_count": 35,
   "metadata": {},
   "outputs": [
    {
     "data": {
      "text/html": [
       "<div>\n",
       "<style scoped>\n",
       "    .dataframe tbody tr th:only-of-type {\n",
       "        vertical-align: middle;\n",
       "    }\n",
       "\n",
       "    .dataframe tbody tr th {\n",
       "        vertical-align: top;\n",
       "    }\n",
       "\n",
       "    .dataframe thead th {\n",
       "        text-align: right;\n",
       "    }\n",
       "</style>\n",
       "<table border=\"1\" class=\"dataframe\">\n",
       "  <thead>\n",
       "    <tr style=\"text-align: right;\">\n",
       "      <th></th>\n",
       "      <th>movieId</th>\n",
       "      <th>title</th>\n",
       "      <th>genres</th>\n",
       "    </tr>\n",
       "  </thead>\n",
       "  <tbody>\n",
       "    <tr>\n",
       "      <th>0</th>\n",
       "      <td>1</td>\n",
       "      <td>Toy Story (1995)</td>\n",
       "      <td>Adventure|Animation|Children|Comedy|Fantasy</td>\n",
       "    </tr>\n",
       "    <tr>\n",
       "      <th>1</th>\n",
       "      <td>2</td>\n",
       "      <td>Jumanji (1995)</td>\n",
       "      <td>Adventure|Children|Fantasy</td>\n",
       "    </tr>\n",
       "    <tr>\n",
       "      <th>2</th>\n",
       "      <td>3</td>\n",
       "      <td>Grumpier Old Men (1995)</td>\n",
       "      <td>Comedy|Romance</td>\n",
       "    </tr>\n",
       "    <tr>\n",
       "      <th>3</th>\n",
       "      <td>4</td>\n",
       "      <td>Waiting to Exhale (1995)</td>\n",
       "      <td>Comedy|Drama|Romance</td>\n",
       "    </tr>\n",
       "    <tr>\n",
       "      <th>4</th>\n",
       "      <td>5</td>\n",
       "      <td>Father of the Bride Part II (1995)</td>\n",
       "      <td>Comedy</td>\n",
       "    </tr>\n",
       "  </tbody>\n",
       "</table>\n",
       "</div>"
      ],
      "text/plain": [
       "   movieId                               title  \\\n",
       "0        1                    Toy Story (1995)   \n",
       "1        2                      Jumanji (1995)   \n",
       "2        3             Grumpier Old Men (1995)   \n",
       "3        4            Waiting to Exhale (1995)   \n",
       "4        5  Father of the Bride Part II (1995)   \n",
       "\n",
       "                                        genres  \n",
       "0  Adventure|Animation|Children|Comedy|Fantasy  \n",
       "1                   Adventure|Children|Fantasy  \n",
       "2                               Comedy|Romance  \n",
       "3                         Comedy|Drama|Romance  \n",
       "4                                       Comedy  "
      ]
     },
     "execution_count": 35,
     "metadata": {},
     "output_type": "execute_result"
    }
   ],
   "source": [
    "movies.head()"
   ]
  },
  {
   "cell_type": "code",
   "execution_count": 39,
   "metadata": {},
   "outputs": [
    {
     "data": {
      "text/html": [
       "<div>\n",
       "<style scoped>\n",
       "    .dataframe tbody tr th:only-of-type {\n",
       "        vertical-align: middle;\n",
       "    }\n",
       "\n",
       "    .dataframe tbody tr th {\n",
       "        vertical-align: top;\n",
       "    }\n",
       "\n",
       "    .dataframe thead th {\n",
       "        text-align: right;\n",
       "    }\n",
       "</style>\n",
       "<table border=\"1\" class=\"dataframe\">\n",
       "  <thead>\n",
       "    <tr style=\"text-align: right;\">\n",
       "      <th></th>\n",
       "      <th>userId</th>\n",
       "      <th>movieId</th>\n",
       "      <th>tag</th>\n",
       "      <th>timestamp</th>\n",
       "    </tr>\n",
       "  </thead>\n",
       "  <tbody>\n",
       "    <tr>\n",
       "      <th>0</th>\n",
       "      <td>18</td>\n",
       "      <td>4141</td>\n",
       "      <td>Mark Waters</td>\n",
       "      <td>2009-04-24 18:19:40</td>\n",
       "    </tr>\n",
       "    <tr>\n",
       "      <th>1</th>\n",
       "      <td>65</td>\n",
       "      <td>208</td>\n",
       "      <td>dark hero</td>\n",
       "      <td>2013-05-10 01:41:18</td>\n",
       "    </tr>\n",
       "    <tr>\n",
       "      <th>2</th>\n",
       "      <td>65</td>\n",
       "      <td>353</td>\n",
       "      <td>dark hero</td>\n",
       "      <td>2013-05-10 01:41:19</td>\n",
       "    </tr>\n",
       "    <tr>\n",
       "      <th>3</th>\n",
       "      <td>65</td>\n",
       "      <td>521</td>\n",
       "      <td>noir thriller</td>\n",
       "      <td>2013-05-10 01:39:43</td>\n",
       "    </tr>\n",
       "    <tr>\n",
       "      <th>4</th>\n",
       "      <td>65</td>\n",
       "      <td>592</td>\n",
       "      <td>dark hero</td>\n",
       "      <td>2013-05-10 01:41:18</td>\n",
       "    </tr>\n",
       "  </tbody>\n",
       "</table>\n",
       "</div>"
      ],
      "text/plain": [
       "   userId  movieId            tag            timestamp\n",
       "0      18     4141    Mark Waters  2009-04-24 18:19:40\n",
       "1      65      208      dark hero  2013-05-10 01:41:18\n",
       "2      65      353      dark hero  2013-05-10 01:41:19\n",
       "3      65      521  noir thriller  2013-05-10 01:39:43\n",
       "4      65      592      dark hero  2013-05-10 01:41:18"
      ]
     },
     "execution_count": 39,
     "metadata": {},
     "output_type": "execute_result"
    }
   ],
   "source": [
    "tags.head()"
   ]
  },
  {
   "cell_type": "code",
   "execution_count": 40,
   "metadata": {},
   "outputs": [
    {
     "data": {
      "text/html": [
       "<div>\n",
       "<style scoped>\n",
       "    .dataframe tbody tr th:only-of-type {\n",
       "        vertical-align: middle;\n",
       "    }\n",
       "\n",
       "    .dataframe tbody tr th {\n",
       "        vertical-align: top;\n",
       "    }\n",
       "\n",
       "    .dataframe thead th {\n",
       "        text-align: right;\n",
       "    }\n",
       "</style>\n",
       "<table border=\"1\" class=\"dataframe\">\n",
       "  <thead>\n",
       "    <tr style=\"text-align: right;\">\n",
       "      <th></th>\n",
       "      <th>userId</th>\n",
       "      <th>movieId</th>\n",
       "      <th>rating</th>\n",
       "      <th>timestamp</th>\n",
       "    </tr>\n",
       "  </thead>\n",
       "  <tbody>\n",
       "    <tr>\n",
       "      <th>0</th>\n",
       "      <td>1</td>\n",
       "      <td>2</td>\n",
       "      <td>3.5</td>\n",
       "      <td>2005-04-02 23:53:47</td>\n",
       "    </tr>\n",
       "    <tr>\n",
       "      <th>1</th>\n",
       "      <td>1</td>\n",
       "      <td>29</td>\n",
       "      <td>3.5</td>\n",
       "      <td>2005-04-02 23:31:16</td>\n",
       "    </tr>\n",
       "    <tr>\n",
       "      <th>2</th>\n",
       "      <td>1</td>\n",
       "      <td>32</td>\n",
       "      <td>3.5</td>\n",
       "      <td>2005-04-02 23:33:39</td>\n",
       "    </tr>\n",
       "    <tr>\n",
       "      <th>3</th>\n",
       "      <td>1</td>\n",
       "      <td>47</td>\n",
       "      <td>3.5</td>\n",
       "      <td>2005-04-02 23:32:07</td>\n",
       "    </tr>\n",
       "    <tr>\n",
       "      <th>4</th>\n",
       "      <td>1</td>\n",
       "      <td>50</td>\n",
       "      <td>3.5</td>\n",
       "      <td>2005-04-02 23:29:40</td>\n",
       "    </tr>\n",
       "  </tbody>\n",
       "</table>\n",
       "</div>"
      ],
      "text/plain": [
       "   userId  movieId  rating            timestamp\n",
       "0       1        2     3.5  2005-04-02 23:53:47\n",
       "1       1       29     3.5  2005-04-02 23:31:16\n",
       "2       1       32     3.5  2005-04-02 23:33:39\n",
       "3       1       47     3.5  2005-04-02 23:32:07\n",
       "4       1       50     3.5  2005-04-02 23:29:40"
      ]
     },
     "execution_count": 40,
     "metadata": {},
     "output_type": "execute_result"
    }
   ],
   "source": [
    "ratings.head()"
   ]
  },
  {
   "cell_type": "code",
   "execution_count": 36,
   "metadata": {},
   "outputs": [],
   "source": [
    "movies['genres'] = movies['genres'].str.replace('|',' ')"
   ]
  },
  {
   "cell_type": "code",
   "execution_count": 37,
   "metadata": {},
   "outputs": [
    {
     "data": {
      "text/plain": [
       "27278"
      ]
     },
     "execution_count": 37,
     "metadata": {},
     "output_type": "execute_result"
    }
   ],
   "source": [
    "len(movies.movieId.unique())"
   ]
  },
  {
   "cell_type": "code",
   "execution_count": 38,
   "metadata": {},
   "outputs": [
    {
     "data": {
      "text/plain": [
       "26744"
      ]
     },
     "execution_count": 38,
     "metadata": {},
     "output_type": "execute_result"
    }
   ],
   "source": [
    "len(ratings.movieId.unique())"
   ]
  },
  {
   "cell_type": "code",
   "execution_count": 8,
   "metadata": {},
   "outputs": [],
   "source": [
    "#limit ratings to user ratings that have rated more that 55 movies -- \n",
    "#Otherwise it becomes impossible to pivot the rating dataframe later for collaborative filtering.\n",
    "\n",
    "ratings_f = ratings.groupby('userId').filter(lambda x: len(x) >= 55)\n",
    "\n",
    "# list the movie titles that survive the filtering\n",
    "movie_list_rating = ratings_f.movieId.unique().tolist()"
   ]
  },
  {
   "cell_type": "code",
   "execution_count": 79,
   "metadata": {},
   "outputs": [
    {
     "data": {
      "text/plain": [
       "97.85908057775497"
      ]
     },
     "execution_count": 79,
     "metadata": {},
     "output_type": "execute_result"
    }
   ],
   "source": [
    "# no worries: we have kept 97% of the original movie titles in ratings data frame\n",
    "len(ratings_f.movieId.unique())/len(movies.movieId.unique()) * 100"
   ]
  },
  {
   "cell_type": "code",
   "execution_count": 10,
   "metadata": {},
   "outputs": [
    {
     "data": {
      "text/plain": [
       "57.797867040211415"
      ]
     },
     "execution_count": 10,
     "metadata": {},
     "output_type": "execute_result"
    }
   ],
   "source": [
    "# but only 57% of the users \n",
    "len(ratings_f.userId.unique())/len(ratings.userId.unique()) * 100"
   ]
  },
  {
   "cell_type": "code",
   "execution_count": 11,
   "metadata": {},
   "outputs": [],
   "source": [
    "#filter the movies data frame\n",
    "movies = movies[movies.movieId.isin(movie_list_rating)]"
   ]
  },
  {
   "cell_type": "code",
   "execution_count": 12,
   "metadata": {},
   "outputs": [
    {
     "data": {
      "text/html": [
       "<div>\n",
       "<style scoped>\n",
       "    .dataframe tbody tr th:only-of-type {\n",
       "        vertical-align: middle;\n",
       "    }\n",
       "\n",
       "    .dataframe tbody tr th {\n",
       "        vertical-align: top;\n",
       "    }\n",
       "\n",
       "    .dataframe thead th {\n",
       "        text-align: right;\n",
       "    }\n",
       "</style>\n",
       "<table border=\"1\" class=\"dataframe\">\n",
       "  <thead>\n",
       "    <tr style=\"text-align: right;\">\n",
       "      <th></th>\n",
       "      <th>movieId</th>\n",
       "      <th>title</th>\n",
       "      <th>genres</th>\n",
       "    </tr>\n",
       "  </thead>\n",
       "  <tbody>\n",
       "    <tr>\n",
       "      <th>0</th>\n",
       "      <td>1</td>\n",
       "      <td>Toy Story (1995)</td>\n",
       "      <td>Adventure Animation Children Comedy Fantasy</td>\n",
       "    </tr>\n",
       "    <tr>\n",
       "      <th>1</th>\n",
       "      <td>2</td>\n",
       "      <td>Jumanji (1995)</td>\n",
       "      <td>Adventure Children Fantasy</td>\n",
       "    </tr>\n",
       "    <tr>\n",
       "      <th>2</th>\n",
       "      <td>3</td>\n",
       "      <td>Grumpier Old Men (1995)</td>\n",
       "      <td>Comedy Romance</td>\n",
       "    </tr>\n",
       "  </tbody>\n",
       "</table>\n",
       "</div>"
      ],
      "text/plain": [
       "   movieId                    title  \\\n",
       "0        1         Toy Story (1995)   \n",
       "1        2           Jumanji (1995)   \n",
       "2        3  Grumpier Old Men (1995)   \n",
       "\n",
       "                                        genres  \n",
       "0  Adventure Animation Children Comedy Fantasy  \n",
       "1                   Adventure Children Fantasy  \n",
       "2                               Comedy Romance  "
      ]
     },
     "execution_count": 12,
     "metadata": {},
     "output_type": "execute_result"
    }
   ],
   "source": [
    "movies.head(3)"
   ]
  },
  {
   "cell_type": "code",
   "execution_count": 13,
   "metadata": {},
   "outputs": [],
   "source": [
    "# map movie to id:\n",
    "Mapping_file = dict(zip(movies.title.tolist(), movies.movieId.tolist()))"
   ]
  },
  {
   "cell_type": "code",
   "execution_count": 14,
   "metadata": {},
   "outputs": [],
   "source": [
    "tags.drop(['timestamp'],1, inplace=True)\n",
    "ratings_f.drop(['timestamp'],1, inplace=True)"
   ]
  },
  {
   "cell_type": "markdown",
   "metadata": {},
   "source": [
    "### Merge the movies and the tags data frame and create a metadata tag for each movie:"
   ]
  },
  {
   "cell_type": "code",
   "execution_count": 15,
   "metadata": {
    "scrolled": true
   },
   "outputs": [
    {
     "data": {
      "text/html": [
       "<div>\n",
       "<style scoped>\n",
       "    .dataframe tbody tr th:only-of-type {\n",
       "        vertical-align: middle;\n",
       "    }\n",
       "\n",
       "    .dataframe tbody tr th {\n",
       "        vertical-align: top;\n",
       "    }\n",
       "\n",
       "    .dataframe thead th {\n",
       "        text-align: right;\n",
       "    }\n",
       "</style>\n",
       "<table border=\"1\" class=\"dataframe\">\n",
       "  <thead>\n",
       "    <tr style=\"text-align: right;\">\n",
       "      <th></th>\n",
       "      <th>movieId</th>\n",
       "      <th>title</th>\n",
       "      <th>genres</th>\n",
       "      <th>userId</th>\n",
       "      <th>tag</th>\n",
       "    </tr>\n",
       "  </thead>\n",
       "  <tbody>\n",
       "    <tr>\n",
       "      <th>0</th>\n",
       "      <td>1</td>\n",
       "      <td>Toy Story (1995)</td>\n",
       "      <td>Adventure Animation Children Comedy Fantasy</td>\n",
       "      <td>1644.0</td>\n",
       "      <td>Watched</td>\n",
       "    </tr>\n",
       "    <tr>\n",
       "      <th>1</th>\n",
       "      <td>1</td>\n",
       "      <td>Toy Story (1995)</td>\n",
       "      <td>Adventure Animation Children Comedy Fantasy</td>\n",
       "      <td>1741.0</td>\n",
       "      <td>computer animation</td>\n",
       "    </tr>\n",
       "    <tr>\n",
       "      <th>2</th>\n",
       "      <td>1</td>\n",
       "      <td>Toy Story (1995)</td>\n",
       "      <td>Adventure Animation Children Comedy Fantasy</td>\n",
       "      <td>1741.0</td>\n",
       "      <td>Disney animated feature</td>\n",
       "    </tr>\n",
       "  </tbody>\n",
       "</table>\n",
       "</div>"
      ],
      "text/plain": [
       "   movieId             title                                       genres  \\\n",
       "0        1  Toy Story (1995)  Adventure Animation Children Comedy Fantasy   \n",
       "1        1  Toy Story (1995)  Adventure Animation Children Comedy Fantasy   \n",
       "2        1  Toy Story (1995)  Adventure Animation Children Comedy Fantasy   \n",
       "\n",
       "   userId                      tag  \n",
       "0  1644.0                  Watched  \n",
       "1  1741.0       computer animation  \n",
       "2  1741.0  Disney animated feature  "
      ]
     },
     "execution_count": 15,
     "metadata": {},
     "output_type": "execute_result"
    }
   ],
   "source": [
    "# create a mixed dataframe of movies title, genres \n",
    "# and all user tags given to each movie\n",
    "mixed = pd.merge(movies, tags, on='movieId', how='left')\n",
    "mixed.head(3)"
   ]
  },
  {
   "cell_type": "code",
   "execution_count": 16,
   "metadata": {},
   "outputs": [
    {
     "data": {
      "text/html": [
       "<div>\n",
       "<style scoped>\n",
       "    .dataframe tbody tr th:only-of-type {\n",
       "        vertical-align: middle;\n",
       "    }\n",
       "\n",
       "    .dataframe tbody tr th {\n",
       "        vertical-align: top;\n",
       "    }\n",
       "\n",
       "    .dataframe thead th {\n",
       "        text-align: right;\n",
       "    }\n",
       "</style>\n",
       "<table border=\"1\" class=\"dataframe\">\n",
       "  <thead>\n",
       "    <tr style=\"text-align: right;\">\n",
       "      <th></th>\n",
       "      <th>movieId</th>\n",
       "      <th>title</th>\n",
       "      <th>metadata</th>\n",
       "    </tr>\n",
       "  </thead>\n",
       "  <tbody>\n",
       "    <tr>\n",
       "      <th>0</th>\n",
       "      <td>1</td>\n",
       "      <td>Toy Story (1995)</td>\n",
       "      <td>Watched computer animation Disney animated fea...</td>\n",
       "    </tr>\n",
       "    <tr>\n",
       "      <th>1</th>\n",
       "      <td>2</td>\n",
       "      <td>Jumanji (1995)</td>\n",
       "      <td>time travel adapted from:book board game child...</td>\n",
       "    </tr>\n",
       "    <tr>\n",
       "      <th>2</th>\n",
       "      <td>3</td>\n",
       "      <td>Grumpier Old Men (1995)</td>\n",
       "      <td>old people that is actually funny sequel fever...</td>\n",
       "    </tr>\n",
       "  </tbody>\n",
       "</table>\n",
       "</div>"
      ],
      "text/plain": [
       "   movieId                    title  \\\n",
       "0        1         Toy Story (1995)   \n",
       "1        2           Jumanji (1995)   \n",
       "2        3  Grumpier Old Men (1995)   \n",
       "\n",
       "                                            metadata  \n",
       "0  Watched computer animation Disney animated fea...  \n",
       "1  time travel adapted from:book board game child...  \n",
       "2  old people that is actually funny sequel fever...  "
      ]
     },
     "execution_count": 16,
     "metadata": {},
     "output_type": "execute_result"
    }
   ],
   "source": [
    "# create metadata from tags and genres\n",
    "mixed.fillna(\"\", inplace=True)\n",
    "mixed = pd.DataFrame(mixed.groupby('movieId')['tag'].apply(\n",
    "                                          lambda x: \"%s\" % ' '.join(x)))\n",
    "Final = pd.merge(movies, mixed, on='movieId', how='left')\n",
    "Final ['metadata'] = Final[['tag', 'genres']].apply(\n",
    "                                          lambda x: ' '.join(x), axis = 1)\n",
    "Final[['movieId','title','metadata']].head(3)"
   ]
  },
  {
   "cell_type": "code",
   "execution_count": 48,
   "metadata": {},
   "outputs": [
    {
     "data": {
      "text/plain": [
       "(26694, 5)"
      ]
     },
     "execution_count": 48,
     "metadata": {},
     "output_type": "execute_result"
    }
   ],
   "source": [
    "Final.shape"
   ]
  },
  {
   "cell_type": "code",
   "execution_count": 87,
   "metadata": {},
   "outputs": [
    {
     "data": {
      "text/plain": [
       "'time travel adapted from:book board game childhood recaptured game herds of CGI animals scary see also:Zathura time time travel board game fantasy Robin Williams scary time travel Robin Williams Joe Johnston Robin Williams kid flick jungle Robin Williams board game Robin Williams animals Lebbat Robin Williams time travel adventure Robin Williams Children Fantasy Robin Williams Dynamic CGI Action Kirsten Dunst Robin Williams Robin Williams fantasy kid flick animals animals fantasy For children fantasy adapted from:book childish Children kid flick time travel Joe Johnston fantasy Robin Williams time travel animals board game children fantasy Kirsten Dunst Robin Williams time travel board game time travel Children kid flick Filmed in BC fantasy Robin Williams animals bad cgi based on a book board game Chris Van Allsburg Robin Williams Robin Williams game magic board game monkey adapted from:book animals bad cgi based on a book board game childhood recaptured Children Chris Van Allsburg fantasy Filmed in BC jungle kid flick Kirsten Dunst monkey Robin Williams Saturn Award (Best Special Effects) Saturn Award (Best Supporting Actress) scary time time travel animals based on a book magic board game monkey Robin Williams time travel animals childhood recaptured herds of CGI animals Kirsten Dunst Robin Williams fantasy Robin Williams scary time travel CLV bad cgi horrifying (but not Horror genre) Kirsten Dunst magic board game monkey not for kids fantasy animals fantasy Robin Williams scary Adventure Children Fantasy'"
      ]
     },
     "execution_count": 87,
     "metadata": {},
     "output_type": "execute_result"
    }
   ],
   "source": [
    "Final.loc[1, \"metadata\"]"
   ]
  },
  {
   "cell_type": "markdown",
   "metadata": {},
   "source": [
    "### Creating a content latent matrix from movie metadata:"
   ]
  },
  {
   "cell_type": "markdown",
   "metadata": {},
   "source": [
    "### tf-idf vectors and truncated SVD :\n"
   ]
  },
  {
   "cell_type": "code",
   "execution_count": 17,
   "metadata": {},
   "outputs": [
    {
     "name": "stdout",
     "output_type": "stream",
     "text": [
      "(26694, 23704)\n"
     ]
    }
   ],
   "source": [
    "from sklearn.feature_extraction.text import TfidfVectorizer\n",
    "tfidf = TfidfVectorizer(stop_words='english')\n",
    "tfidf_matrix = tfidf.fit_transform(Final['metadata'])\n",
    "tfidf_df = pd.DataFrame(tfidf_matrix.toarray(), index=Final.index.tolist())\n",
    "print(tfidf_df.shape)"
   ]
  },
  {
   "cell_type": "code",
   "execution_count": 89,
   "metadata": {},
   "outputs": [
    {
     "data": {
      "text/plain": [
       "(26694, 23704)"
      ]
     },
     "execution_count": 89,
     "metadata": {},
     "output_type": "execute_result"
    }
   ],
   "source": [
    "tfidf_df.shape"
   ]
  },
  {
   "cell_type": "code",
   "execution_count": 91,
   "metadata": {},
   "outputs": [
    {
     "data": {
      "text/html": [
       "<div>\n",
       "<style scoped>\n",
       "    .dataframe tbody tr th:only-of-type {\n",
       "        vertical-align: middle;\n",
       "    }\n",
       "\n",
       "    .dataframe tbody tr th {\n",
       "        vertical-align: top;\n",
       "    }\n",
       "\n",
       "    .dataframe thead th {\n",
       "        text-align: right;\n",
       "    }\n",
       "</style>\n",
       "<table border=\"1\" class=\"dataframe\">\n",
       "  <thead>\n",
       "    <tr style=\"text-align: right;\">\n",
       "      <th></th>\n",
       "      <th>0</th>\n",
       "      <th>1</th>\n",
       "      <th>2</th>\n",
       "      <th>3</th>\n",
       "      <th>4</th>\n",
       "      <th>5</th>\n",
       "      <th>6</th>\n",
       "      <th>7</th>\n",
       "      <th>8</th>\n",
       "      <th>9</th>\n",
       "      <th>...</th>\n",
       "      <th>23694</th>\n",
       "      <th>23695</th>\n",
       "      <th>23696</th>\n",
       "      <th>23697</th>\n",
       "      <th>23698</th>\n",
       "      <th>23699</th>\n",
       "      <th>23700</th>\n",
       "      <th>23701</th>\n",
       "      <th>23702</th>\n",
       "      <th>23703</th>\n",
       "    </tr>\n",
       "  </thead>\n",
       "  <tbody>\n",
       "    <tr>\n",
       "      <th>0</th>\n",
       "      <td>0.0</td>\n",
       "      <td>0.0</td>\n",
       "      <td>0.0</td>\n",
       "      <td>0.0</td>\n",
       "      <td>0.0</td>\n",
       "      <td>0.0</td>\n",
       "      <td>0.0</td>\n",
       "      <td>0.0</td>\n",
       "      <td>0.0</td>\n",
       "      <td>0.0</td>\n",
       "      <td>...</td>\n",
       "      <td>0.0</td>\n",
       "      <td>0.0</td>\n",
       "      <td>0.0</td>\n",
       "      <td>0.0</td>\n",
       "      <td>0.0</td>\n",
       "      <td>0.0</td>\n",
       "      <td>0.0</td>\n",
       "      <td>0.0</td>\n",
       "      <td>0.0</td>\n",
       "      <td>0.0</td>\n",
       "    </tr>\n",
       "    <tr>\n",
       "      <th>1</th>\n",
       "      <td>0.0</td>\n",
       "      <td>0.0</td>\n",
       "      <td>0.0</td>\n",
       "      <td>0.0</td>\n",
       "      <td>0.0</td>\n",
       "      <td>0.0</td>\n",
       "      <td>0.0</td>\n",
       "      <td>0.0</td>\n",
       "      <td>0.0</td>\n",
       "      <td>0.0</td>\n",
       "      <td>...</td>\n",
       "      <td>0.0</td>\n",
       "      <td>0.0</td>\n",
       "      <td>0.0</td>\n",
       "      <td>0.0</td>\n",
       "      <td>0.0</td>\n",
       "      <td>0.0</td>\n",
       "      <td>0.0</td>\n",
       "      <td>0.0</td>\n",
       "      <td>0.0</td>\n",
       "      <td>0.0</td>\n",
       "    </tr>\n",
       "    <tr>\n",
       "      <th>2</th>\n",
       "      <td>0.0</td>\n",
       "      <td>0.0</td>\n",
       "      <td>0.0</td>\n",
       "      <td>0.0</td>\n",
       "      <td>0.0</td>\n",
       "      <td>0.0</td>\n",
       "      <td>0.0</td>\n",
       "      <td>0.0</td>\n",
       "      <td>0.0</td>\n",
       "      <td>0.0</td>\n",
       "      <td>...</td>\n",
       "      <td>0.0</td>\n",
       "      <td>0.0</td>\n",
       "      <td>0.0</td>\n",
       "      <td>0.0</td>\n",
       "      <td>0.0</td>\n",
       "      <td>0.0</td>\n",
       "      <td>0.0</td>\n",
       "      <td>0.0</td>\n",
       "      <td>0.0</td>\n",
       "      <td>0.0</td>\n",
       "    </tr>\n",
       "    <tr>\n",
       "      <th>3</th>\n",
       "      <td>0.0</td>\n",
       "      <td>0.0</td>\n",
       "      <td>0.0</td>\n",
       "      <td>0.0</td>\n",
       "      <td>0.0</td>\n",
       "      <td>0.0</td>\n",
       "      <td>0.0</td>\n",
       "      <td>0.0</td>\n",
       "      <td>0.0</td>\n",
       "      <td>0.0</td>\n",
       "      <td>...</td>\n",
       "      <td>0.0</td>\n",
       "      <td>0.0</td>\n",
       "      <td>0.0</td>\n",
       "      <td>0.0</td>\n",
       "      <td>0.0</td>\n",
       "      <td>0.0</td>\n",
       "      <td>0.0</td>\n",
       "      <td>0.0</td>\n",
       "      <td>0.0</td>\n",
       "      <td>0.0</td>\n",
       "    </tr>\n",
       "    <tr>\n",
       "      <th>4</th>\n",
       "      <td>0.0</td>\n",
       "      <td>0.0</td>\n",
       "      <td>0.0</td>\n",
       "      <td>0.0</td>\n",
       "      <td>0.0</td>\n",
       "      <td>0.0</td>\n",
       "      <td>0.0</td>\n",
       "      <td>0.0</td>\n",
       "      <td>0.0</td>\n",
       "      <td>0.0</td>\n",
       "      <td>...</td>\n",
       "      <td>0.0</td>\n",
       "      <td>0.0</td>\n",
       "      <td>0.0</td>\n",
       "      <td>0.0</td>\n",
       "      <td>0.0</td>\n",
       "      <td>0.0</td>\n",
       "      <td>0.0</td>\n",
       "      <td>0.0</td>\n",
       "      <td>0.0</td>\n",
       "      <td>0.0</td>\n",
       "    </tr>\n",
       "  </tbody>\n",
       "</table>\n",
       "<p>5 rows × 23704 columns</p>\n",
       "</div>"
      ],
      "text/plain": [
       "   0      1      2      3      4      5      6      7      8      9      ...  \\\n",
       "0    0.0    0.0    0.0    0.0    0.0    0.0    0.0    0.0    0.0    0.0  ...   \n",
       "1    0.0    0.0    0.0    0.0    0.0    0.0    0.0    0.0    0.0    0.0  ...   \n",
       "2    0.0    0.0    0.0    0.0    0.0    0.0    0.0    0.0    0.0    0.0  ...   \n",
       "3    0.0    0.0    0.0    0.0    0.0    0.0    0.0    0.0    0.0    0.0  ...   \n",
       "4    0.0    0.0    0.0    0.0    0.0    0.0    0.0    0.0    0.0    0.0  ...   \n",
       "\n",
       "   23694  23695  23696  23697  23698  23699  23700  23701  23702  23703  \n",
       "0    0.0    0.0    0.0    0.0    0.0    0.0    0.0    0.0    0.0    0.0  \n",
       "1    0.0    0.0    0.0    0.0    0.0    0.0    0.0    0.0    0.0    0.0  \n",
       "2    0.0    0.0    0.0    0.0    0.0    0.0    0.0    0.0    0.0    0.0  \n",
       "3    0.0    0.0    0.0    0.0    0.0    0.0    0.0    0.0    0.0    0.0  \n",
       "4    0.0    0.0    0.0    0.0    0.0    0.0    0.0    0.0    0.0    0.0  \n",
       "\n",
       "[5 rows x 23704 columns]"
      ]
     },
     "execution_count": 91,
     "metadata": {},
     "output_type": "execute_result"
    }
   ],
   "source": [
    "tfidf_df.head()"
   ]
  },
  {
   "cell_type": "markdown",
   "metadata": {},
   "source": [
    "#### The first 200 components explain over 50% of the variance:"
   ]
  },
  {
   "cell_type": "code",
   "execution_count": 18,
   "metadata": {},
   "outputs": [
    {
     "data": {
      "image/png": "[encoded data removed]",
      "text/plain": [
       "<Figure size 432x288 with 1 Axes>"
      ]
     },
     "metadata": {
      "needs_background": "light"
     },
     "output_type": "display_data"
    }
   ],
   "source": [
    "# Compress with SVD\n",
    "from sklearn.decomposition import TruncatedSVD\n",
    "svd = TruncatedSVD(n_components=200)\n",
    "latent_matrix = svd.fit_transform(tfidf_df)\n",
    "# plot var expalined to see what latent dimensions to use\n",
    "explained = svd.explained_variance_ratio_.cumsum()\n",
    "plt.plot(explained, '.-', ms = 16, color='red')\n",
    "plt.xlabel('Singular value components', fontsize= 12)\n",
    "plt.ylabel('Cumulative percent of variance', fontsize=12)        \n",
    "plt.show()"
   ]
  },
  {
   "cell_type": "code",
   "execution_count": 19,
   "metadata": {},
   "outputs": [],
   "source": [
    "#number of latent dimensions to keep\n",
    "n = 200 \n",
    "latent_matrix_1_df = pd.DataFrame(latent_matrix[:,0:n], index=Final.title.tolist())"
   ]
  },
  {
   "cell_type": "code",
   "execution_count": 20,
   "metadata": {},
   "outputs": [
    {
     "data": {
      "text/plain": [
       "(26694, 200)"
      ]
     },
     "execution_count": 20,
     "metadata": {},
     "output_type": "execute_result"
    }
   ],
   "source": [
    "# our content latent matrix:\n",
    "latent_matrix.shape"
   ]
  },
  {
   "cell_type": "markdown",
   "metadata": {},
   "source": [
    "### Creating a collaborative latent matrix from user ratings:"
   ]
  },
  {
   "cell_type": "code",
   "execution_count": 66,
   "metadata": {},
   "outputs": [
    {
     "data": {
      "text/html": [
       "<div>\n",
       "<style scoped>\n",
       "    .dataframe tbody tr th:only-of-type {\n",
       "        vertical-align: middle;\n",
       "    }\n",
       "\n",
       "    .dataframe tbody tr th {\n",
       "        vertical-align: top;\n",
       "    }\n",
       "\n",
       "    .dataframe thead th {\n",
       "        text-align: right;\n",
       "    }\n",
       "</style>\n",
       "<table border=\"1\" class=\"dataframe\">\n",
       "  <thead>\n",
       "    <tr style=\"text-align: right;\">\n",
       "      <th></th>\n",
       "      <th>userId</th>\n",
       "      <th>movieId</th>\n",
       "      <th>rating</th>\n",
       "    </tr>\n",
       "  </thead>\n",
       "  <tbody>\n",
       "    <tr>\n",
       "      <th>0</th>\n",
       "      <td>1</td>\n",
       "      <td>2</td>\n",
       "      <td>3.5</td>\n",
       "    </tr>\n",
       "    <tr>\n",
       "      <th>1</th>\n",
       "      <td>1</td>\n",
       "      <td>29</td>\n",
       "      <td>3.5</td>\n",
       "    </tr>\n",
       "    <tr>\n",
       "      <th>2</th>\n",
       "      <td>1</td>\n",
       "      <td>32</td>\n",
       "      <td>3.5</td>\n",
       "    </tr>\n",
       "    <tr>\n",
       "      <th>3</th>\n",
       "      <td>1</td>\n",
       "      <td>47</td>\n",
       "      <td>3.5</td>\n",
       "    </tr>\n",
       "    <tr>\n",
       "      <th>4</th>\n",
       "      <td>1</td>\n",
       "      <td>50</td>\n",
       "      <td>3.5</td>\n",
       "    </tr>\n",
       "  </tbody>\n",
       "</table>\n",
       "</div>"
      ],
      "text/plain": [
       "   userId  movieId  rating\n",
       "0       1        2     3.5\n",
       "1       1       29     3.5\n",
       "2       1       32     3.5\n",
       "3       1       47     3.5\n",
       "4       1       50     3.5"
      ]
     },
     "execution_count": 66,
     "metadata": {},
     "output_type": "execute_result"
    }
   ],
   "source": [
    "ratings_f.head()"
   ]
  },
  {
   "cell_type": "code",
   "execution_count": 22,
   "metadata": {},
   "outputs": [],
   "source": [
    "ratings_f1 = pd.merge(movies[['movieId']], ratings_f, on=\"movieId\", how=\"right\")"
   ]
  },
  {
   "cell_type": "code",
   "execution_count": 23,
   "metadata": {},
   "outputs": [],
   "source": [
    "ratings_f2 = ratings_f1.pivot(index = 'movieId', columns ='userId', values = 'rating').fillna(0)"
   ]
  },
  {
   "cell_type": "code",
   "execution_count": 24,
   "metadata": {},
   "outputs": [
    {
     "data": {
      "text/html": [
       "<div>\n",
       "<style scoped>\n",
       "    .dataframe tbody tr th:only-of-type {\n",
       "        vertical-align: middle;\n",
       "    }\n",
       "\n",
       "    .dataframe tbody tr th {\n",
       "        vertical-align: top;\n",
       "    }\n",
       "\n",
       "    .dataframe thead th {\n",
       "        text-align: right;\n",
       "    }\n",
       "</style>\n",
       "<table border=\"1\" class=\"dataframe\">\n",
       "  <thead>\n",
       "    <tr style=\"text-align: right;\">\n",
       "      <th>userId</th>\n",
       "      <th>1</th>\n",
       "      <th>2</th>\n",
       "      <th>3</th>\n",
       "      <th>5</th>\n",
       "      <th>7</th>\n",
       "      <th>8</th>\n",
       "      <th>11</th>\n",
       "      <th>13</th>\n",
       "      <th>14</th>\n",
       "      <th>16</th>\n",
       "      <th>...</th>\n",
       "      <th>138474</th>\n",
       "      <th>138475</th>\n",
       "      <th>138477</th>\n",
       "      <th>138483</th>\n",
       "      <th>138484</th>\n",
       "      <th>138486</th>\n",
       "      <th>138487</th>\n",
       "      <th>138490</th>\n",
       "      <th>138492</th>\n",
       "      <th>138493</th>\n",
       "    </tr>\n",
       "    <tr>\n",
       "      <th>movieId</th>\n",
       "      <th></th>\n",
       "      <th></th>\n",
       "      <th></th>\n",
       "      <th></th>\n",
       "      <th></th>\n",
       "      <th></th>\n",
       "      <th></th>\n",
       "      <th></th>\n",
       "      <th></th>\n",
       "      <th></th>\n",
       "      <th></th>\n",
       "      <th></th>\n",
       "      <th></th>\n",
       "      <th></th>\n",
       "      <th></th>\n",
       "      <th></th>\n",
       "      <th></th>\n",
       "      <th></th>\n",
       "      <th></th>\n",
       "      <th></th>\n",
       "      <th></th>\n",
       "    </tr>\n",
       "  </thead>\n",
       "  <tbody>\n",
       "    <tr>\n",
       "      <th>1</th>\n",
       "      <td>0.0</td>\n",
       "      <td>0.0</td>\n",
       "      <td>4.0</td>\n",
       "      <td>0.0</td>\n",
       "      <td>0.0</td>\n",
       "      <td>4.0</td>\n",
       "      <td>4.5</td>\n",
       "      <td>4.0</td>\n",
       "      <td>4.5</td>\n",
       "      <td>3.0</td>\n",
       "      <td>...</td>\n",
       "      <td>5.0</td>\n",
       "      <td>0.0</td>\n",
       "      <td>3.0</td>\n",
       "      <td>4.0</td>\n",
       "      <td>0.0</td>\n",
       "      <td>5.0</td>\n",
       "      <td>0.0</td>\n",
       "      <td>0.0</td>\n",
       "      <td>0.0</td>\n",
       "      <td>3.5</td>\n",
       "    </tr>\n",
       "    <tr>\n",
       "      <th>2</th>\n",
       "      <td>3.5</td>\n",
       "      <td>0.0</td>\n",
       "      <td>0.0</td>\n",
       "      <td>3.0</td>\n",
       "      <td>0.0</td>\n",
       "      <td>0.0</td>\n",
       "      <td>0.0</td>\n",
       "      <td>3.0</td>\n",
       "      <td>0.0</td>\n",
       "      <td>0.0</td>\n",
       "      <td>...</td>\n",
       "      <td>4.0</td>\n",
       "      <td>0.0</td>\n",
       "      <td>0.0</td>\n",
       "      <td>3.0</td>\n",
       "      <td>3.0</td>\n",
       "      <td>0.0</td>\n",
       "      <td>0.0</td>\n",
       "      <td>0.0</td>\n",
       "      <td>0.0</td>\n",
       "      <td>4.0</td>\n",
       "    </tr>\n",
       "    <tr>\n",
       "      <th>3</th>\n",
       "      <td>0.0</td>\n",
       "      <td>4.0</td>\n",
       "      <td>0.0</td>\n",
       "      <td>0.0</td>\n",
       "      <td>3.0</td>\n",
       "      <td>5.0</td>\n",
       "      <td>0.0</td>\n",
       "      <td>0.0</td>\n",
       "      <td>0.0</td>\n",
       "      <td>0.0</td>\n",
       "      <td>...</td>\n",
       "      <td>0.0</td>\n",
       "      <td>0.0</td>\n",
       "      <td>0.0</td>\n",
       "      <td>0.0</td>\n",
       "      <td>4.0</td>\n",
       "      <td>0.0</td>\n",
       "      <td>0.0</td>\n",
       "      <td>0.0</td>\n",
       "      <td>0.0</td>\n",
       "      <td>0.0</td>\n",
       "    </tr>\n",
       "  </tbody>\n",
       "</table>\n",
       "<p>3 rows × 80046 columns</p>\n",
       "</div>"
      ],
      "text/plain": [
       "userId   1       2       3       5       7       8       11      13      \\\n",
       "movieId                                                                   \n",
       "1           0.0     0.0     4.0     0.0     0.0     4.0     4.5     4.0   \n",
       "2           3.5     0.0     0.0     3.0     0.0     0.0     0.0     3.0   \n",
       "3           0.0     4.0     0.0     0.0     3.0     5.0     0.0     0.0   \n",
       "\n",
       "userId   14      16      ...  138474  138475  138477  138483  138484  138486  \\\n",
       "movieId                  ...                                                   \n",
       "1           4.5     3.0  ...     5.0     0.0     3.0     4.0     0.0     5.0   \n",
       "2           0.0     0.0  ...     4.0     0.0     0.0     3.0     3.0     0.0   \n",
       "3           0.0     0.0  ...     0.0     0.0     0.0     0.0     4.0     0.0   \n",
       "\n",
       "userId   138487  138490  138492  138493  \n",
       "movieId                                  \n",
       "1           0.0     0.0     0.0     3.5  \n",
       "2           0.0     0.0     0.0     4.0  \n",
       "3           0.0     0.0     0.0     0.0  \n",
       "\n",
       "[3 rows x 80046 columns]"
      ]
     },
     "execution_count": 24,
     "metadata": {},
     "output_type": "execute_result"
    }
   ],
   "source": [
    "ratings_f2.head(3)"
   ]
  },
  {
   "cell_type": "code",
   "execution_count": 67,
   "metadata": {},
   "outputs": [
    {
     "data": {
      "text/plain": [
       "(26694, 80046)"
      ]
     },
     "execution_count": 67,
     "metadata": {},
     "output_type": "execute_result"
    }
   ],
   "source": [
    "ratings_f2.shape"
   ]
  },
  {
   "cell_type": "code",
   "execution_count": 25,
   "metadata": {},
   "outputs": [
    {
     "data": {
      "text/plain": [
       "26694"
      ]
     },
     "execution_count": 25,
     "metadata": {},
     "output_type": "execute_result"
    }
   ],
   "source": [
    "len(ratings_f.movieId.unique())"
   ]
  },
  {
   "cell_type": "code",
   "execution_count": 26,
   "metadata": {},
   "outputs": [],
   "source": [
    "from sklearn.decomposition import TruncatedSVD\n",
    "svd = TruncatedSVD(n_components=200)\n",
    "latent_matrix_2 = svd.fit_transform(ratings_f2)\n",
    "latent_matrix_2_df = pd.DataFrame(\n",
    "                             latent_matrix_2,\n",
    "                             index=Final.title.tolist())"
   ]
  },
  {
   "cell_type": "code",
   "execution_count": 68,
   "metadata": {},
   "outputs": [
    {
     "data": {
      "text/plain": [
       "(26694, 200)"
      ]
     },
     "execution_count": 68,
     "metadata": {},
     "output_type": "execute_result"
    }
   ],
   "source": [
    "latent_matrix_2_df.shape"
   ]
  },
  {
   "cell_type": "code",
   "execution_count": 27,
   "metadata": {},
   "outputs": [
    {
     "data": {
      "image/png": "[encoded data removed]",
      "text/plain": [
       "<Figure size 432x288 with 1 Axes>"
      ]
     },
     "metadata": {
      "needs_background": "light"
     },
     "output_type": "display_data"
    }
   ],
   "source": [
    "# plot variance expalined to see what latent dimensions to use\n",
    "explained = svd.explained_variance_ratio_.cumsum()\n",
    "plt.plot(explained, '.-', ms = 16, color='red')\n",
    "plt.xlabel('Singular value components', fontsize= 12)\n",
    "plt.ylabel('Cumulative percent of variance', fontsize=12)        \n",
    "plt.show()"
   ]
  },
  {
   "cell_type": "code",
   "execution_count": 98,
   "metadata": {},
   "outputs": [
    {
     "data": {
      "text/html": [
       "<div>\n",
       "<style scoped>\n",
       "    .dataframe tbody tr th:only-of-type {\n",
       "        vertical-align: middle;\n",
       "    }\n",
       "\n",
       "    .dataframe tbody tr th {\n",
       "        vertical-align: top;\n",
       "    }\n",
       "\n",
       "    .dataframe thead th {\n",
       "        text-align: right;\n",
       "    }\n",
       "</style>\n",
       "<table border=\"1\" class=\"dataframe\">\n",
       "  <thead>\n",
       "    <tr style=\"text-align: right;\">\n",
       "      <th></th>\n",
       "      <th>0</th>\n",
       "      <th>1</th>\n",
       "      <th>2</th>\n",
       "      <th>3</th>\n",
       "      <th>4</th>\n",
       "      <th>5</th>\n",
       "      <th>6</th>\n",
       "      <th>7</th>\n",
       "      <th>8</th>\n",
       "      <th>9</th>\n",
       "      <th>...</th>\n",
       "      <th>190</th>\n",
       "      <th>191</th>\n",
       "      <th>192</th>\n",
       "      <th>193</th>\n",
       "      <th>194</th>\n",
       "      <th>195</th>\n",
       "      <th>196</th>\n",
       "      <th>197</th>\n",
       "      <th>198</th>\n",
       "      <th>199</th>\n",
       "    </tr>\n",
       "  </thead>\n",
       "  <tbody>\n",
       "    <tr>\n",
       "      <th>Toy Story (1995)</th>\n",
       "      <td>0.026804</td>\n",
       "      <td>0.052404</td>\n",
       "      <td>0.019479</td>\n",
       "      <td>0.003361</td>\n",
       "      <td>0.004004</td>\n",
       "      <td>-0.024907</td>\n",
       "      <td>0.115090</td>\n",
       "      <td>0.012749</td>\n",
       "      <td>-0.001627</td>\n",
       "      <td>0.103939</td>\n",
       "      <td>...</td>\n",
       "      <td>0.013765</td>\n",
       "      <td>-0.095055</td>\n",
       "      <td>0.071623</td>\n",
       "      <td>0.026548</td>\n",
       "      <td>0.145115</td>\n",
       "      <td>-0.046204</td>\n",
       "      <td>0.002641</td>\n",
       "      <td>0.075190</td>\n",
       "      <td>0.031707</td>\n",
       "      <td>-0.043084</td>\n",
       "    </tr>\n",
       "    <tr>\n",
       "      <th>Jumanji (1995)</th>\n",
       "      <td>0.010512</td>\n",
       "      <td>0.010537</td>\n",
       "      <td>0.025846</td>\n",
       "      <td>0.000882</td>\n",
       "      <td>0.013254</td>\n",
       "      <td>-0.001140</td>\n",
       "      <td>0.068154</td>\n",
       "      <td>0.012675</td>\n",
       "      <td>0.006184</td>\n",
       "      <td>0.050531</td>\n",
       "      <td>...</td>\n",
       "      <td>0.013168</td>\n",
       "      <td>0.047116</td>\n",
       "      <td>0.023979</td>\n",
       "      <td>-0.002008</td>\n",
       "      <td>0.051804</td>\n",
       "      <td>0.008510</td>\n",
       "      <td>-0.011835</td>\n",
       "      <td>0.023738</td>\n",
       "      <td>0.037220</td>\n",
       "      <td>0.023813</td>\n",
       "    </tr>\n",
       "    <tr>\n",
       "      <th>Grumpier Old Men (1995)</th>\n",
       "      <td>0.038827</td>\n",
       "      <td>0.073948</td>\n",
       "      <td>-0.004930</td>\n",
       "      <td>-0.001323</td>\n",
       "      <td>0.031760</td>\n",
       "      <td>0.002476</td>\n",
       "      <td>-0.003612</td>\n",
       "      <td>-0.001630</td>\n",
       "      <td>-0.000253</td>\n",
       "      <td>0.000645</td>\n",
       "      <td>...</td>\n",
       "      <td>-0.008554</td>\n",
       "      <td>0.011897</td>\n",
       "      <td>0.015156</td>\n",
       "      <td>-0.023353</td>\n",
       "      <td>-0.006564</td>\n",
       "      <td>-0.004556</td>\n",
       "      <td>0.015178</td>\n",
       "      <td>-0.011981</td>\n",
       "      <td>0.001144</td>\n",
       "      <td>0.002668</td>\n",
       "    </tr>\n",
       "    <tr>\n",
       "      <th>Waiting to Exhale (1995)</th>\n",
       "      <td>0.136327</td>\n",
       "      <td>0.077169</td>\n",
       "      <td>-0.020606</td>\n",
       "      <td>-0.002103</td>\n",
       "      <td>0.101073</td>\n",
       "      <td>0.012071</td>\n",
       "      <td>-0.012106</td>\n",
       "      <td>-0.002062</td>\n",
       "      <td>-0.004896</td>\n",
       "      <td>-0.002583</td>\n",
       "      <td>...</td>\n",
       "      <td>0.039084</td>\n",
       "      <td>0.017345</td>\n",
       "      <td>0.032948</td>\n",
       "      <td>0.067761</td>\n",
       "      <td>0.047851</td>\n",
       "      <td>-0.115328</td>\n",
       "      <td>-0.002416</td>\n",
       "      <td>-0.006978</td>\n",
       "      <td>0.112730</td>\n",
       "      <td>0.032197</td>\n",
       "    </tr>\n",
       "    <tr>\n",
       "      <th>Father of the Bride Part II (1995)</th>\n",
       "      <td>0.038644</td>\n",
       "      <td>0.084084</td>\n",
       "      <td>0.000456</td>\n",
       "      <td>0.000029</td>\n",
       "      <td>-0.013619</td>\n",
       "      <td>0.000075</td>\n",
       "      <td>0.013469</td>\n",
       "      <td>-0.000218</td>\n",
       "      <td>0.008462</td>\n",
       "      <td>0.013971</td>\n",
       "      <td>...</td>\n",
       "      <td>0.009855</td>\n",
       "      <td>-0.001510</td>\n",
       "      <td>0.006788</td>\n",
       "      <td>0.041731</td>\n",
       "      <td>0.038153</td>\n",
       "      <td>0.025821</td>\n",
       "      <td>0.055411</td>\n",
       "      <td>0.031643</td>\n",
       "      <td>0.008360</td>\n",
       "      <td>0.031986</td>\n",
       "    </tr>\n",
       "  </tbody>\n",
       "</table>\n",
       "<p>5 rows × 200 columns</p>\n",
       "</div>"
      ],
      "text/plain": [
       "                                         0         1         2         3    \\\n",
       "Toy Story (1995)                    0.026804  0.052404  0.019479  0.003361   \n",
       "Jumanji (1995)                      0.010512  0.010537  0.025846  0.000882   \n",
       "Grumpier Old Men (1995)             0.038827  0.073948 -0.004930 -0.001323   \n",
       "Waiting to Exhale (1995)            0.136327  0.077169 -0.020606 -0.002103   \n",
       "Father of the Bride Part II (1995)  0.038644  0.084084  0.000456  0.000029   \n",
       "\n",
       "                                         4         5         6         7    \\\n",
       "Toy Story (1995)                    0.004004 -0.024907  0.115090  0.012749   \n",
       "Jumanji (1995)                      0.013254 -0.001140  0.068154  0.012675   \n",
       "Grumpier Old Men (1995)             0.031760  0.002476 -0.003612 -0.001630   \n",
       "Waiting to Exhale (1995)            0.101073  0.012071 -0.012106 -0.002062   \n",
       "Father of the Bride Part II (1995) -0.013619  0.000075  0.013469 -0.000218   \n",
       "\n",
       "                                         8         9    ...       190  \\\n",
       "Toy Story (1995)                   -0.001627  0.103939  ...  0.013765   \n",
       "Jumanji (1995)                      0.006184  0.050531  ...  0.013168   \n",
       "Grumpier Old Men (1995)            -0.000253  0.000645  ... -0.008554   \n",
       "Waiting to Exhale (1995)           -0.004896 -0.002583  ...  0.039084   \n",
       "Father of the Bride Part II (1995)  0.008462  0.013971  ...  0.009855   \n",
       "\n",
       "                                         191       192       193       194  \\\n",
       "Toy Story (1995)                   -0.095055  0.071623  0.026548  0.145115   \n",
       "Jumanji (1995)                      0.047116  0.023979 -0.002008  0.051804   \n",
       "Grumpier Old Men (1995)             0.011897  0.015156 -0.023353 -0.006564   \n",
       "Waiting to Exhale (1995)            0.017345  0.032948  0.067761  0.047851   \n",
       "Father of the Bride Part II (1995) -0.001510  0.006788  0.041731  0.038153   \n",
       "\n",
       "                                         195       196       197       198  \\\n",
       "Toy Story (1995)                   -0.046204  0.002641  0.075190  0.031707   \n",
       "Jumanji (1995)                      0.008510 -0.011835  0.023738  0.037220   \n",
       "Grumpier Old Men (1995)            -0.004556  0.015178 -0.011981  0.001144   \n",
       "Waiting to Exhale (1995)           -0.115328 -0.002416 -0.006978  0.112730   \n",
       "Father of the Bride Part II (1995)  0.025821  0.055411  0.031643  0.008360   \n",
       "\n",
       "                                         199  \n",
       "Toy Story (1995)                   -0.043084  \n",
       "Jumanji (1995)                      0.023813  \n",
       "Grumpier Old Men (1995)             0.002668  \n",
       "Waiting to Exhale (1995)            0.032197  \n",
       "Father of the Bride Part II (1995)  0.031986  \n",
       "\n",
       "[5 rows x 200 columns]"
      ]
     },
     "execution_count": 98,
     "metadata": {},
     "output_type": "execute_result"
    }
   ],
   "source": [
    "latent_matrix_1_df.head()"
   ]
  },
  {
   "cell_type": "code",
   "execution_count": 99,
   "metadata": {},
   "outputs": [
    {
     "data": {
      "text/html": [
       "<div>\n",
       "<style scoped>\n",
       "    .dataframe tbody tr th:only-of-type {\n",
       "        vertical-align: middle;\n",
       "    }\n",
       "\n",
       "    .dataframe tbody tr th {\n",
       "        vertical-align: top;\n",
       "    }\n",
       "\n",
       "    .dataframe thead th {\n",
       "        text-align: right;\n",
       "    }\n",
       "</style>\n",
       "<table border=\"1\" class=\"dataframe\">\n",
       "  <thead>\n",
       "    <tr style=\"text-align: right;\">\n",
       "      <th></th>\n",
       "      <th>0</th>\n",
       "      <th>1</th>\n",
       "      <th>2</th>\n",
       "      <th>3</th>\n",
       "      <th>4</th>\n",
       "      <th>5</th>\n",
       "      <th>6</th>\n",
       "      <th>7</th>\n",
       "      <th>8</th>\n",
       "      <th>9</th>\n",
       "      <th>...</th>\n",
       "      <th>190</th>\n",
       "      <th>191</th>\n",
       "      <th>192</th>\n",
       "      <th>193</th>\n",
       "      <th>194</th>\n",
       "      <th>195</th>\n",
       "      <th>196</th>\n",
       "      <th>197</th>\n",
       "      <th>198</th>\n",
       "      <th>199</th>\n",
       "    </tr>\n",
       "  </thead>\n",
       "  <tbody>\n",
       "    <tr>\n",
       "      <th>Toy Story (1995)</th>\n",
       "      <td>566.399546</td>\n",
       "      <td>-17.220076</td>\n",
       "      <td>136.259578</td>\n",
       "      <td>67.741281</td>\n",
       "      <td>45.164237</td>\n",
       "      <td>161.268919</td>\n",
       "      <td>-68.499228</td>\n",
       "      <td>69.552753</td>\n",
       "      <td>-59.055850</td>\n",
       "      <td>13.974031</td>\n",
       "      <td>...</td>\n",
       "      <td>25.707120</td>\n",
       "      <td>-12.796730</td>\n",
       "      <td>-18.754798</td>\n",
       "      <td>13.577070</td>\n",
       "      <td>9.082012</td>\n",
       "      <td>8.611207</td>\n",
       "      <td>-5.921727</td>\n",
       "      <td>-4.056060</td>\n",
       "      <td>-9.594410</td>\n",
       "      <td>10.341234</td>\n",
       "    </tr>\n",
       "    <tr>\n",
       "      <th>Jumanji (1995)</th>\n",
       "      <td>255.369685</td>\n",
       "      <td>-16.704519</td>\n",
       "      <td>159.472499</td>\n",
       "      <td>-47.617594</td>\n",
       "      <td>-39.035040</td>\n",
       "      <td>12.521876</td>\n",
       "      <td>-66.950994</td>\n",
       "      <td>48.913895</td>\n",
       "      <td>20.515466</td>\n",
       "      <td>-24.841967</td>\n",
       "      <td>...</td>\n",
       "      <td>-3.825254</td>\n",
       "      <td>-24.587192</td>\n",
       "      <td>-14.663550</td>\n",
       "      <td>19.311788</td>\n",
       "      <td>-0.637451</td>\n",
       "      <td>9.361195</td>\n",
       "      <td>-0.465313</td>\n",
       "      <td>-12.819364</td>\n",
       "      <td>28.773395</td>\n",
       "      <td>-7.348377</td>\n",
       "    </tr>\n",
       "    <tr>\n",
       "      <th>Grumpier Old Men (1995)</th>\n",
       "      <td>106.031137</td>\n",
       "      <td>-54.822451</td>\n",
       "      <td>65.715181</td>\n",
       "      <td>-44.950351</td>\n",
       "      <td>-30.607987</td>\n",
       "      <td>2.076419</td>\n",
       "      <td>-2.861147</td>\n",
       "      <td>1.221395</td>\n",
       "      <td>-23.294540</td>\n",
       "      <td>-27.719155</td>\n",
       "      <td>...</td>\n",
       "      <td>-1.839125</td>\n",
       "      <td>9.031219</td>\n",
       "      <td>-6.608052</td>\n",
       "      <td>-7.917692</td>\n",
       "      <td>3.340346</td>\n",
       "      <td>0.859752</td>\n",
       "      <td>1.655973</td>\n",
       "      <td>5.193916</td>\n",
       "      <td>2.932961</td>\n",
       "      <td>-10.376952</td>\n",
       "    </tr>\n",
       "    <tr>\n",
       "      <th>Waiting to Exhale (1995)</th>\n",
       "      <td>26.135429</td>\n",
       "      <td>-29.596888</td>\n",
       "      <td>19.780741</td>\n",
       "      <td>-8.418184</td>\n",
       "      <td>-27.544151</td>\n",
       "      <td>2.002038</td>\n",
       "      <td>-0.067364</td>\n",
       "      <td>3.995107</td>\n",
       "      <td>-6.372644</td>\n",
       "      <td>3.986383</td>\n",
       "      <td>...</td>\n",
       "      <td>0.831253</td>\n",
       "      <td>-0.686659</td>\n",
       "      <td>2.086235</td>\n",
       "      <td>1.679287</td>\n",
       "      <td>0.557649</td>\n",
       "      <td>-0.564344</td>\n",
       "      <td>0.573190</td>\n",
       "      <td>0.465632</td>\n",
       "      <td>-2.327275</td>\n",
       "      <td>-2.342194</td>\n",
       "    </tr>\n",
       "    <tr>\n",
       "      <th>Father of the Bride Part II (1995)</th>\n",
       "      <td>91.102740</td>\n",
       "      <td>-49.069112</td>\n",
       "      <td>73.892052</td>\n",
       "      <td>-39.855792</td>\n",
       "      <td>-48.151897</td>\n",
       "      <td>17.060574</td>\n",
       "      <td>-10.835706</td>\n",
       "      <td>9.440391</td>\n",
       "      <td>-15.996413</td>\n",
       "      <td>-17.218643</td>\n",
       "      <td>...</td>\n",
       "      <td>-3.516032</td>\n",
       "      <td>10.882131</td>\n",
       "      <td>-2.884915</td>\n",
       "      <td>-2.605068</td>\n",
       "      <td>1.501052</td>\n",
       "      <td>-0.860019</td>\n",
       "      <td>1.962073</td>\n",
       "      <td>9.454416</td>\n",
       "      <td>4.743658</td>\n",
       "      <td>-9.987913</td>\n",
       "    </tr>\n",
       "  </tbody>\n",
       "</table>\n",
       "<p>5 rows × 200 columns</p>\n",
       "</div>"
      ],
      "text/plain": [
       "                                           0          1           2    \\\n",
       "Toy Story (1995)                    566.399546 -17.220076  136.259578   \n",
       "Jumanji (1995)                      255.369685 -16.704519  159.472499   \n",
       "Grumpier Old Men (1995)             106.031137 -54.822451   65.715181   \n",
       "Waiting to Exhale (1995)             26.135429 -29.596888   19.780741   \n",
       "Father of the Bride Part II (1995)   91.102740 -49.069112   73.892052   \n",
       "\n",
       "                                          3          4           5    \\\n",
       "Toy Story (1995)                    67.741281  45.164237  161.268919   \n",
       "Jumanji (1995)                     -47.617594 -39.035040   12.521876   \n",
       "Grumpier Old Men (1995)            -44.950351 -30.607987    2.076419   \n",
       "Waiting to Exhale (1995)            -8.418184 -27.544151    2.002038   \n",
       "Father of the Bride Part II (1995) -39.855792 -48.151897   17.060574   \n",
       "\n",
       "                                          6          7          8    \\\n",
       "Toy Story (1995)                   -68.499228  69.552753 -59.055850   \n",
       "Jumanji (1995)                     -66.950994  48.913895  20.515466   \n",
       "Grumpier Old Men (1995)             -2.861147   1.221395 -23.294540   \n",
       "Waiting to Exhale (1995)            -0.067364   3.995107  -6.372644   \n",
       "Father of the Bride Part II (1995) -10.835706   9.440391 -15.996413   \n",
       "\n",
       "                                          9    ...        190        191  \\\n",
       "Toy Story (1995)                    13.974031  ...  25.707120 -12.796730   \n",
       "Jumanji (1995)                     -24.841967  ...  -3.825254 -24.587192   \n",
       "Grumpier Old Men (1995)            -27.719155  ...  -1.839125   9.031219   \n",
       "Waiting to Exhale (1995)             3.986383  ...   0.831253  -0.686659   \n",
       "Father of the Bride Part II (1995) -17.218643  ...  -3.516032  10.882131   \n",
       "\n",
       "                                          192        193       194       195  \\\n",
       "Toy Story (1995)                   -18.754798  13.577070  9.082012  8.611207   \n",
       "Jumanji (1995)                     -14.663550  19.311788 -0.637451  9.361195   \n",
       "Grumpier Old Men (1995)             -6.608052  -7.917692  3.340346  0.859752   \n",
       "Waiting to Exhale (1995)             2.086235   1.679287  0.557649 -0.564344   \n",
       "Father of the Bride Part II (1995)  -2.884915  -2.605068  1.501052 -0.860019   \n",
       "\n",
       "                                         196        197        198        199  \n",
       "Toy Story (1995)                   -5.921727  -4.056060  -9.594410  10.341234  \n",
       "Jumanji (1995)                     -0.465313 -12.819364  28.773395  -7.348377  \n",
       "Grumpier Old Men (1995)             1.655973   5.193916   2.932961 -10.376952  \n",
       "Waiting to Exhale (1995)            0.573190   0.465632  -2.327275  -2.342194  \n",
       "Father of the Bride Part II (1995)  1.962073   9.454416   4.743658  -9.987913  \n",
       "\n",
       "[5 rows x 200 columns]"
      ]
     },
     "execution_count": 99,
     "metadata": {},
     "output_type": "execute_result"
    }
   ],
   "source": [
    "latent_matrix_2_df.head()"
   ]
  },
  {
   "cell_type": "markdown",
   "metadata": {},
   "source": [
    "### Running a content / collaborative and hybrid cosine Similarity:"
   ]
  },
  {
   "cell_type": "code",
   "execution_count": 102,
   "metadata": {},
   "outputs": [
    {
     "data": {
      "text/html": [
       "<div>\n",
       "<style scoped>\n",
       "    .dataframe tbody tr th:only-of-type {\n",
       "        vertical-align: middle;\n",
       "    }\n",
       "\n",
       "    .dataframe tbody tr th {\n",
       "        vertical-align: top;\n",
       "    }\n",
       "\n",
       "    .dataframe thead th {\n",
       "        text-align: right;\n",
       "    }\n",
       "</style>\n",
       "<table border=\"1\" class=\"dataframe\">\n",
       "  <thead>\n",
       "    <tr style=\"text-align: right;\">\n",
       "      <th></th>\n",
       "      <th>content</th>\n",
       "      <th>collaborative</th>\n",
       "      <th>hybrid</th>\n",
       "    </tr>\n",
       "  </thead>\n",
       "  <tbody>\n",
       "    <tr>\n",
       "      <th>Toy Story 2 (1999)</th>\n",
       "      <td>0.963633</td>\n",
       "      <td>0.736437</td>\n",
       "      <td>0.850035</td>\n",
       "    </tr>\n",
       "    <tr>\n",
       "      <th>Bug's Life, A (1998)</th>\n",
       "      <td>0.910092</td>\n",
       "      <td>0.640285</td>\n",
       "      <td>0.775189</td>\n",
       "    </tr>\n",
       "    <tr>\n",
       "      <th>Monsters, Inc. (2001)</th>\n",
       "      <td>0.888226</td>\n",
       "      <td>0.613719</td>\n",
       "      <td>0.750973</td>\n",
       "    </tr>\n",
       "    <tr>\n",
       "      <th>Finding Nemo (2003)</th>\n",
       "      <td>0.874042</td>\n",
       "      <td>0.591571</td>\n",
       "      <td>0.732807</td>\n",
       "    </tr>\n",
       "    <tr>\n",
       "      <th>Incredibles, The (2004)</th>\n",
       "      <td>0.797007</td>\n",
       "      <td>0.565039</td>\n",
       "      <td>0.681023</td>\n",
       "    </tr>\n",
       "    <tr>\n",
       "      <th>Ice Age (2002)</th>\n",
       "      <td>0.875240</td>\n",
       "      <td>0.479267</td>\n",
       "      <td>0.677254</td>\n",
       "    </tr>\n",
       "    <tr>\n",
       "      <th>Ratatouille (2007)</th>\n",
       "      <td>0.903943</td>\n",
       "      <td>0.425328</td>\n",
       "      <td>0.664635</td>\n",
       "    </tr>\n",
       "    <tr>\n",
       "      <th>Antz (1998)</th>\n",
       "      <td>0.740393</td>\n",
       "      <td>0.566646</td>\n",
       "      <td>0.653519</td>\n",
       "    </tr>\n",
       "    <tr>\n",
       "      <th>Toy Story 3 (2010)</th>\n",
       "      <td>0.878544</td>\n",
       "      <td>0.407997</td>\n",
       "      <td>0.643271</td>\n",
       "    </tr>\n",
       "    <tr>\n",
       "      <th>Shrek (2001)</th>\n",
       "      <td>0.639776</td>\n",
       "      <td>0.620458</td>\n",
       "      <td>0.630117</td>\n",
       "    </tr>\n",
       "    <tr>\n",
       "      <th>Cars (2006)</th>\n",
       "      <td>0.742309</td>\n",
       "      <td>0.409924</td>\n",
       "      <td>0.576117</td>\n",
       "    </tr>\n",
       "  </tbody>\n",
       "</table>\n",
       "</div>"
      ],
      "text/plain": [
       "                          content  collaborative    hybrid\n",
       "Toy Story 2 (1999)       0.963633       0.736437  0.850035\n",
       "Bug's Life, A (1998)     0.910092       0.640285  0.775189\n",
       "Monsters, Inc. (2001)    0.888226       0.613719  0.750973\n",
       "Finding Nemo (2003)      0.874042       0.591571  0.732807\n",
       "Incredibles, The (2004)  0.797007       0.565039  0.681023\n",
       "Ice Age (2002)           0.875240       0.479267  0.677254\n",
       "Ratatouille (2007)       0.903943       0.425328  0.664635\n",
       "Antz (1998)              0.740393       0.566646  0.653519\n",
       "Toy Story 3 (2010)       0.878544       0.407997  0.643271\n",
       "Shrek (2001)             0.639776       0.620458  0.630117\n",
       "Cars (2006)              0.742309       0.409924  0.576117"
      ]
     },
     "execution_count": 102,
     "metadata": {},
     "output_type": "execute_result"
    }
   ],
   "source": [
    "from sklearn.metrics.pairwise import cosine_similarity\n",
    "# take the latent vectors for a selected movie from both content \n",
    "# and collaborative matrixes\n",
    "a_1 = np.array(latent_matrix_1_df.loc['Toy Story (1995)']).reshape(1, -1)\n",
    "a_2 = np.array(latent_matrix_2_df.loc['Toy Story (1995)']).reshape(1, -1)\n",
    "\n",
    "# calculate the similartity of this movie with the others in the list\n",
    "score_1 = cosine_similarity(latent_matrix_1_df, a_1).reshape(-1)\n",
    "score_2 = cosine_similarity(latent_matrix_2_df, a_2).reshape(-1)\n",
    "\n",
    "# an average measure of both content and collaborative \n",
    "hybrid = ((score_1 + score_2)/2.0)\n",
    "\n",
    "# form a data frame of similar movies \n",
    "dictDf = {'content': score_1 , 'collaborative': score_2, 'hybrid': hybrid} \n",
    "similar = pd.DataFrame(dictDf, index = latent_matrix_1_df.index )\n",
    "\n",
    "#sort it on the basis of either: content, collaborative or hybrid, \n",
    "# here : content\n",
    "similar.sort_values('hybrid', ascending=False, inplace=True)\n",
    "\n",
    "similar[1:].head(11)"
   ]
  },
  {
   "cell_type": "markdown",
   "metadata": {},
   "source": [
    "We could use the similarity information we gained from item-item collaborative filtering to compute a rating prediction,**𝑟[i][u]**, for an item (𝑖) by a user (𝑢) where the rating is missing. \n",
    "Namely by taking a weighted average on the rating values of the top K nearest neighbours of item (𝑖)."
   ]
  },
  {
   "cell_type": "code",
   "execution_count": null,
   "metadata": {},
   "outputs": [],
   "source": [
    "surprise"
   ]
  }
 ],
 "metadata": {
  "kernelspec": {
   "display_name": "Python 3",
   "language": "python",
   "name": "python3"
  },
  "language_info": {
   "codemirror_mode": {
    "name": "ipython",
    "version": 3
   },
   "file_extension": ".py",
   "mimetype": "text/x-python",
   "name": "python",
   "nbconvert_exporter": "python",
   "pygments_lexer": "ipython3",
   "version": "3.6.10"
  }
 },
 "nbformat": 4,
 "nbformat_minor": 4
}
